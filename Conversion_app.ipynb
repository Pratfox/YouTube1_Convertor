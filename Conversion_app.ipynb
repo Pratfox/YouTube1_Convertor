{
  "nbformat": 4,
  "nbformat_minor": 0,
  "metadata": {
    "colab": {
      "provenance": []
    },
    "kernelspec": {
      "name": "python3",
      "display_name": "Python 3"
    },
    "language_info": {
      "name": "python"
    }
  },
  "cells": [
    {
      "cell_type": "code",
      "source": [
        "# prompt: !pip install pytube\n",
        "\n",
        "!pip install pytube"
      ],
      "metadata": {
        "colab": {
          "base_uri": "https://localhost:8080/"
        },
        "id": "GW8H_5V7B7Bv",
        "outputId": "8c9a4203-477b-4574-f1b0-38a511d1ecf7"
      },
      "execution_count": null,
      "outputs": [
        {
          "output_type": "stream",
          "name": "stdout",
          "text": [
            "Requirement already satisfied: pytube in /usr/local/lib/python3.10/dist-packages (15.0.0)\n"
          ]
        }
      ]
    },
    {
      "cell_type": "code",
      "source": [
        "# prompt: !pip install --upgrade pytube\n",
        "\n",
        "!pip install --upgrade pytube"
      ],
      "metadata": {
        "colab": {
          "base_uri": "https://localhost:8080/"
        },
        "id": "DtjH4kKKDKAQ",
        "outputId": "d299b034-7b6a-4ddb-a7bf-9cf1c1b741b1"
      },
      "execution_count": null,
      "outputs": [
        {
          "output_type": "stream",
          "name": "stdout",
          "text": [
            "Requirement already satisfied: pytube in /usr/local/lib/python3.10/dist-packages (15.0.0)\n"
          ]
        }
      ]
    },
    {
      "cell_type": "code",
      "source": [
        "# prompt: yt-dlp\n",
        "\n",
        "!pip install yt-dlp"
      ],
      "metadata": {
        "colab": {
          "base_uri": "https://localhost:8080/"
        },
        "id": "9BFsirVcD5EB",
        "outputId": "1720b57b-890e-470a-b06b-b68d5ddd1ec5"
      },
      "execution_count": null,
      "outputs": [
        {
          "output_type": "stream",
          "name": "stdout",
          "text": [
            "Requirement already satisfied: yt-dlp in /usr/local/lib/python3.10/dist-packages (2024.10.22)\n",
            "Requirement already satisfied: brotli in /usr/local/lib/python3.10/dist-packages (from yt-dlp) (1.1.0)\n",
            "Requirement already satisfied: certifi in /usr/local/lib/python3.10/dist-packages (from yt-dlp) (2024.8.30)\n",
            "Requirement already satisfied: mutagen in /usr/local/lib/python3.10/dist-packages (from yt-dlp) (1.47.0)\n",
            "Requirement already satisfied: pycryptodomex in /usr/local/lib/python3.10/dist-packages (from yt-dlp) (3.21.0)\n",
            "Requirement already satisfied: requests<3,>=2.32.2 in /usr/local/lib/python3.10/dist-packages (from yt-dlp) (2.32.3)\n",
            "Requirement already satisfied: urllib3<3,>=1.26.17 in /usr/local/lib/python3.10/dist-packages (from yt-dlp) (2.2.3)\n",
            "Requirement already satisfied: websockets>=13.0 in /usr/local/lib/python3.10/dist-packages (from yt-dlp) (13.1)\n",
            "Requirement already satisfied: charset-normalizer<4,>=2 in /usr/local/lib/python3.10/dist-packages (from requests<3,>=2.32.2->yt-dlp) (3.4.0)\n",
            "Requirement already satisfied: idna<4,>=2.5 in /usr/local/lib/python3.10/dist-packages (from requests<3,>=2.32.2->yt-dlp) (3.10)\n"
          ]
        }
      ]
    },
    {
      "cell_type": "code",
      "source": [
        "# prompt: !pip install -U yt-dlp\n",
        "\n",
        "!pip install -U yt-dlp"
      ],
      "metadata": {
        "colab": {
          "base_uri": "https://localhost:8080/"
        },
        "id": "g5E4jH_WD_eE",
        "outputId": "8b32aa65-3753-4ae5-dc23-665a83f99f1b"
      },
      "execution_count": null,
      "outputs": [
        {
          "output_type": "stream",
          "name": "stdout",
          "text": [
            "Requirement already satisfied: yt-dlp in /usr/local/lib/python3.10/dist-packages (2024.10.22)\n",
            "Requirement already satisfied: brotli in /usr/local/lib/python3.10/dist-packages (from yt-dlp) (1.1.0)\n",
            "Requirement already satisfied: certifi in /usr/local/lib/python3.10/dist-packages (from yt-dlp) (2024.8.30)\n",
            "Requirement already satisfied: mutagen in /usr/local/lib/python3.10/dist-packages (from yt-dlp) (1.47.0)\n",
            "Requirement already satisfied: pycryptodomex in /usr/local/lib/python3.10/dist-packages (from yt-dlp) (3.21.0)\n",
            "Requirement already satisfied: requests<3,>=2.32.2 in /usr/local/lib/python3.10/dist-packages (from yt-dlp) (2.32.3)\n",
            "Requirement already satisfied: urllib3<3,>=1.26.17 in /usr/local/lib/python3.10/dist-packages (from yt-dlp) (2.2.3)\n",
            "Requirement already satisfied: websockets>=13.0 in /usr/local/lib/python3.10/dist-packages (from yt-dlp) (13.1)\n",
            "Requirement already satisfied: charset-normalizer<4,>=2 in /usr/local/lib/python3.10/dist-packages (from requests<3,>=2.32.2->yt-dlp) (3.4.0)\n",
            "Requirement already satisfied: idna<4,>=2.5 in /usr/local/lib/python3.10/dist-packages (from requests<3,>=2.32.2->yt-dlp) (3.10)\n"
          ]
        }
      ]
    },
    {
      "cell_type": "code",
      "source": [
        "# prompt: # Install yt-dlp\n",
        "# !pip install -U yt-dlp\n",
        "# # Import yt-dlp\n",
        "# import yt_dlp\n",
        "# # Function to download the YouTube video\n",
        "# def download_youtube_video(url):\n",
        "#     ydl_opts = {\n",
        "#         'format': 'bestvideo+bestaudio/best',\n",
        "#         'outtmpl': '%(title)s.%(ext)s',  # Save with the video title as the filename\n",
        "#     }\n",
        "#     try:\n",
        "#         print(f\"Attempting to download from: {url}\")\n",
        "#         with yt_dlp.YoutubeDL(ydl_opts) as ydl:\n",
        "#             ydl.download([url])\n",
        "#         print(\"Download completed.\")\n",
        "#     except Exception as e:\n",
        "#         print(f\"Error: {str(e)}\")\n",
        "# # Main function to get user input\n",
        "# def main():\n",
        "#     url = input(\"Enter the YouTube video URL: \")\n",
        "#     download_youtube_video(url)\n",
        "# main()\n",
        "\n",
        "!pip install yt-dlp\n",
        "\n",
        "import yt_dlp\n",
        "\n",
        "def download_youtube_video(url):\n",
        "  ydl_opts = {\n",
        "      'format': 'bestvideo+bestaudio/best',\n",
        "      'outtmpl': '%(title)s.%(ext)s',\n",
        "  }\n",
        "\n",
        "  try:\n",
        "    with yt_dlp.YoutubeDL(ydl_opts) as ydl:\n",
        "      ydl.download([url])\n",
        "    print(\"Download completed successfully!\")\n",
        "  except Exception as e:\n",
        "    print(f\"An error occurred: {e}\")\n",
        "\n",
        "\n",
        "if __name__ == \"__main__\":\n",
        "  video_url = input(\"Enter the YouTube video URL: \")\n",
        "  download_youtube_video(video_url)"
      ],
      "metadata": {
        "colab": {
          "base_uri": "https://localhost:8080/"
        },
        "id": "JdoLYMCJEEa_",
        "outputId": "8f7341ae-5a12-4103-a351-1e04936027fd"
      },
      "execution_count": null,
      "outputs": [
        {
          "output_type": "stream",
          "name": "stdout",
          "text": [
            "Requirement already satisfied: yt-dlp in /usr/local/lib/python3.10/dist-packages (2024.10.22)\n",
            "Requirement already satisfied: brotli in /usr/local/lib/python3.10/dist-packages (from yt-dlp) (1.1.0)\n",
            "Requirement already satisfied: certifi in /usr/local/lib/python3.10/dist-packages (from yt-dlp) (2024.8.30)\n",
            "Requirement already satisfied: mutagen in /usr/local/lib/python3.10/dist-packages (from yt-dlp) (1.47.0)\n",
            "Requirement already satisfied: pycryptodomex in /usr/local/lib/python3.10/dist-packages (from yt-dlp) (3.21.0)\n",
            "Requirement already satisfied: requests<3,>=2.32.2 in /usr/local/lib/python3.10/dist-packages (from yt-dlp) (2.32.3)\n",
            "Requirement already satisfied: urllib3<3,>=1.26.17 in /usr/local/lib/python3.10/dist-packages (from yt-dlp) (2.2.3)\n",
            "Requirement already satisfied: websockets>=13.0 in /usr/local/lib/python3.10/dist-packages (from yt-dlp) (13.1)\n",
            "Requirement already satisfied: charset-normalizer<4,>=2 in /usr/local/lib/python3.10/dist-packages (from requests<3,>=2.32.2->yt-dlp) (3.4.0)\n",
            "Requirement already satisfied: idna<4,>=2.5 in /usr/local/lib/python3.10/dist-packages (from requests<3,>=2.32.2->yt-dlp) (3.10)\n",
            "Enter the YouTube video URL: https://youtu.be/D4nhaszNW4o?si=mWtIfhhIiqJdJfOw\n",
            "[youtube] Extracting URL: https://youtu.be/D4nhaszNW4o?si=mWtIfhhIiqJdJfOw\n",
            "[youtube] D4nhaszNW4o: Downloading webpage\n",
            "[youtube] D4nhaszNW4o: Downloading ios player API JSON\n",
            "[youtube] D4nhaszNW4o: Downloading mweb player API JSON\n",
            "[youtube] D4nhaszNW4o: Downloading player 576f07ca\n",
            "[youtube] D4nhaszNW4o: Downloading m3u8 information\n",
            "[info] D4nhaszNW4o: Downloading 1 format(s): 248+251\n",
            "[download] Destination: Flutter Basics by a REAL Project.f248.webm\n",
            "[download] 100% of   61.67MiB in 00:00:03 at 16.38MiB/s  \n",
            "[download] Destination: Flutter Basics by a REAL Project.f251.webm\n",
            "[download] 100% of   23.13MiB in 00:00:01 at 22.28MiB/s  \n",
            "[Merger] Merging formats into \"Flutter Basics by a REAL Project.webm\"\n",
            "Deleting original file Flutter Basics by a REAL Project.f251.webm (pass -k to keep)\n",
            "Deleting original file Flutter Basics by a REAL Project.f248.webm (pass -k to keep)\n",
            "Download completed successfully!\n"
          ]
        }
      ]
    },
    {
      "cell_type": "code",
      "source": [
        "# prompt: # Install yt-dlp\n",
        "# !pip install -U yt-dlp\n",
        "# # Import yt-dlp\n",
        "# import yt_dlp\n",
        "# # Function to download the YouTube video\n",
        "# def download_youtube_video(url):\n",
        "#     ydl_opts = {\n",
        "#         'format': 'bestvideo+bestaudio/best',\n",
        "#         'outtmpl': '%(title)s.%(ext)s',  # Save with the video title as the filename\n",
        "#     }\n",
        "#     try:\n",
        "#         print(f\"Attempting to download from: {url}\")\n",
        "#         with yt_dlp.YoutubeDL(ydl_opts) as ydl:\n",
        "#             ydl.download([url])\n",
        "#         print(\"Download completed.\")\n",
        "#     except Exception as e:\n",
        "#         print(f\"Error: {str(e)}\")\n",
        "# # Main function to get user input\n",
        "# def main():\n",
        "#     print(\"YouTube Video Downloader\")\n",
        "#     url = input(\"Enter the YouTube video URL (Shorts or regular): \")\n",
        "#     download_youtube_video(url)\n",
        "# main()\n",
        "\n",
        "import yt_dlp\n",
        "\n",
        "def download_youtube_video(url):\n",
        "  ydl_opts = {\n",
        "      'format': 'bestvideo+bestaudio/best',\n",
        "      'outtmpl': '%(title)s.%(ext)s',\n",
        "  }\n",
        "\n",
        "  try:\n",
        "    with yt_dlp.YoutubeDL(ydl_opts) as ydl:\n",
        "      ydl.download([url])\n",
        "    print(\"Download completed successfully!\")\n",
        "  except Exception as e:\n",
        "    print(f\"An error occurred: {e}\")\n",
        "\n",
        "\n",
        "if __name__ == \"__main__\":\n",
        "  video_url = input(\"Enter the YouTube video URL: \")\n",
        "  download_youtube_video(video_url)"
      ],
      "metadata": {
        "colab": {
          "base_uri": "https://localhost:8080/"
        },
        "id": "hsLb_ZFWE2GK",
        "outputId": "448c6b69-b412-424d-fc13-8d141c3887a5"
      },
      "execution_count": null,
      "outputs": [
        {
          "output_type": "stream",
          "name": "stdout",
          "text": [
            "Enter the YouTube video URL: https://youtube.com/shorts/KLVZR0Y0SzQ?si=TIurqOREsIbQmfg0\n",
            "[youtube] Extracting URL: https://youtube.com/shorts/KLVZR0Y0SzQ?si=TIurqOREsIbQmfg0\n",
            "[youtube] KLVZR0Y0SzQ: Downloading webpage\n",
            "[youtube] KLVZR0Y0SzQ: Downloading ios player API JSON\n",
            "[youtube] KLVZR0Y0SzQ: Downloading mweb player API JSON\n",
            "[youtube] KLVZR0Y0SzQ: Downloading m3u8 information\n",
            "[info] KLVZR0Y0SzQ: Downloading 1 format(s): 616+251\n",
            "[hlsnative] Downloading m3u8 manifest\n",
            "[hlsnative] Total fragments: 10\n",
            "[download] Destination: Kamala would make Pinocchio jealous..f616.mp4\n",
            "[download] 100% of    8.01MiB in 00:00:00 at 10.17MiB/s                  \n",
            "[download] Destination: Kamala would make Pinocchio jealous..f251.webm\n",
            "[download] 100% of  698.12KiB in 00:00:00 at 12.83MiB/s  \n",
            "[Merger] Merging formats into \"Kamala would make Pinocchio jealous..webm\"\n",
            "Deleting original file Kamala would make Pinocchio jealous..f616.mp4 (pass -k to keep)\n",
            "Deleting original file Kamala would make Pinocchio jealous..f251.webm (pass -k to keep)\n",
            "Download completed successfully!\n"
          ]
        }
      ]
    },
    {
      "cell_type": "code",
      "source": [
        "# prompt: import yt_dlp\n",
        "# def download_youtube_video(url):\n",
        "#     ydl_opts = {\n",
        "#         'format': 'bestvideo+bestaudio/best',\n",
        "#         'outtmpl': '%(title)s.%(ext)s',\n",
        "#         'progress_hooks': [hook],\n",
        "#     }\n",
        "#     try:\n",
        "#         with yt_dlp.YoutubeDL(ydl_opts) as ydl:\n",
        "#             ydl.download([url])\n",
        "#         print(\"Download completed successfully!\")\n",
        "#     except Exception as e:\n",
        "#         print(f\"An error occurred: {e}\")\n",
        "# def hook(d):\n",
        "#     if d['status'] == 'downloading':\n",
        "#         print(f\"Downloading: {d['filename']} at {d['downloaded_bytes'] / (1024 * 1024):.2f} MB\")\n",
        "# if __name__ == \"__main__\":\n",
        "#     video_url = input(\"Enter the YouTube video URL: \")\n",
        "#     download_youtube_video(video_url)\n",
        "\n",
        "!pip install yt-dlp\n",
        "\n",
        "import yt_dlp\n",
        "\n",
        "def download_youtube_video(url):\n",
        "    ydl_opts = {\n",
        "        'format': 'bestvideo+bestaudio/best',\n",
        "        'outtmpl': '%(title)s.%(ext)s',\n",
        "    }\n",
        "    try:\n",
        "        with yt_dlp.YoutubeDL(ydl_opts) as ydl:\n",
        "            ydl.download([url])\n",
        "        print(\"Download completed successfully!\")\n",
        "    except Exception as e:\n",
        "        print(f\"An error occurred: {e}\")\n",
        "\n",
        "\n",
        "if __name__ == \"__main__\":\n",
        "    video_url = input(\"Enter the YouTube video URL: \")\n",
        "    download_youtube_video(video_url)"
      ],
      "metadata": {
        "colab": {
          "base_uri": "https://localhost:8080/"
        },
        "id": "5jV1H_FVKT2r",
        "outputId": "c3e43664-e10b-4fbf-dbad-7a714fba609b"
      },
      "execution_count": 21,
      "outputs": [
        {
          "output_type": "stream",
          "name": "stdout",
          "text": [
            "Requirement already satisfied: yt-dlp in /usr/local/lib/python3.10/dist-packages (2024.10.22)\n",
            "Requirement already satisfied: brotli in /usr/local/lib/python3.10/dist-packages (from yt-dlp) (1.1.0)\n",
            "Requirement already satisfied: certifi in /usr/local/lib/python3.10/dist-packages (from yt-dlp) (2024.8.30)\n",
            "Requirement already satisfied: mutagen in /usr/local/lib/python3.10/dist-packages (from yt-dlp) (1.47.0)\n",
            "Requirement already satisfied: pycryptodomex in /usr/local/lib/python3.10/dist-packages (from yt-dlp) (3.21.0)\n",
            "Requirement already satisfied: requests<3,>=2.32.2 in /usr/local/lib/python3.10/dist-packages (from yt-dlp) (2.32.3)\n",
            "Requirement already satisfied: urllib3<3,>=1.26.17 in /usr/local/lib/python3.10/dist-packages (from yt-dlp) (2.2.3)\n",
            "Requirement already satisfied: websockets>=13.0 in /usr/local/lib/python3.10/dist-packages (from yt-dlp) (13.1)\n",
            "Requirement already satisfied: charset-normalizer<4,>=2 in /usr/local/lib/python3.10/dist-packages (from requests<3,>=2.32.2->yt-dlp) (3.4.0)\n",
            "Requirement already satisfied: idna<4,>=2.5 in /usr/local/lib/python3.10/dist-packages (from requests<3,>=2.32.2->yt-dlp) (3.10)\n",
            "Enter the YouTube video URL: https://youtu.be/xkMuykgicYA?si=NbJ6SRYYkZJrjvP-\n",
            "[youtube] Extracting URL: https://youtu.be/xkMuykgicYA?si=NbJ6SRYYkZJrjvP-\n",
            "[youtube] xkMuykgicYA: Downloading webpage\n",
            "[youtube] xkMuykgicYA: Downloading ios player API JSON\n",
            "[youtube] xkMuykgicYA: Downloading mweb player API JSON\n",
            "[youtube] xkMuykgicYA: Downloading m3u8 information\n",
            "[info] xkMuykgicYA: Downloading 1 format(s): 616+251\n",
            "[hlsnative] Downloading m3u8 manifest\n",
            "[hlsnative] Total fragments: 107\n",
            "[download] Destination: No Code App Development is a Trap.f616.mp4\n",
            "[download] 100% of  104.80MiB in 00:00:15 at 6.58MiB/s                   \n",
            "[download] Destination: No Code App Development is a Trap.f251.webm\n",
            "[download] 100% of    7.93MiB in 00:00:00 at 15.20MiB/s  \n",
            "[Merger] Merging formats into \"No Code App Development is a Trap.webm\"\n",
            "Deleting original file No Code App Development is a Trap.f616.mp4 (pass -k to keep)\n",
            "Deleting original file No Code App Development is a Trap.f251.webm (pass -k to keep)\n",
            "Download completed successfully!\n"
          ]
        }
      ]
    },
    {
      "cell_type": "code",
      "source": [
        "# prompt: import yt_dlp\n",
        "# def download_youtube_video(url):\n",
        "#     ydl_opts = {\n",
        "#         'format': 'bestvideo[ext=mp4]+bestaudio[ext=m4a]/best[ext=mp4]',\n",
        "#         'outtmpl': '%(title)s.%(ext)s',\n",
        "#     }\n",
        "#     try:\n",
        "#         with yt_dlp.YoutubeDL(ydl_opts) as ydl:\n",
        "#             ydl.download([url])\n",
        "#         print(\"Download completed successfully!\")\n",
        "#     except Exception as e:\n",
        "#         print(f\"An error occurred: {e}\")\n",
        "# if __name__ == \"__main__\":\n",
        "#     video_url = input(\"Enter the YouTube video URL: \")\n",
        "#     download_youtube_video(video_url)\n",
        "\n",
        "!pip install yt-dlp\n",
        "\n",
        "import yt_dlp\n",
        "\n",
        "def download_youtube_video(url):\n",
        "    ydl_opts = {\n",
        "        'format': 'bestvideo+bestaudio/best',\n",
        "        'outtmpl': '%(title)s.%(ext)s',\n",
        "    }\n",
        "    try:\n",
        "        with yt_dlp.YoutubeDL(ydl_opts) as ydl:\n",
        "            ydl.download([url])\n",
        "        print(\"Download completed successfully!\")\n",
        "    except Exception as e:\n",
        "        print(f\"An error occurred: {e}\")\n",
        "\n",
        "\n",
        "if __name__ == \"__main__\":\n",
        "    video_url = input(\"Enter the YouTube video URL: \")\n",
        "    download_youtube_video(video_url)"
      ],
      "metadata": {
        "colab": {
          "base_uri": "https://localhost:8080/"
        },
        "id": "uw0DMujvKD6t",
        "outputId": "7479bf3b-bc89-446d-9e49-2c5ecd4ae0b5"
      },
      "execution_count": 22,
      "outputs": [
        {
          "output_type": "stream",
          "name": "stdout",
          "text": [
            "Requirement already satisfied: yt-dlp in /usr/local/lib/python3.10/dist-packages (2024.10.22)\n",
            "Requirement already satisfied: brotli in /usr/local/lib/python3.10/dist-packages (from yt-dlp) (1.1.0)\n",
            "Requirement already satisfied: certifi in /usr/local/lib/python3.10/dist-packages (from yt-dlp) (2024.8.30)\n",
            "Requirement already satisfied: mutagen in /usr/local/lib/python3.10/dist-packages (from yt-dlp) (1.47.0)\n",
            "Requirement already satisfied: pycryptodomex in /usr/local/lib/python3.10/dist-packages (from yt-dlp) (3.21.0)\n",
            "Requirement already satisfied: requests<3,>=2.32.2 in /usr/local/lib/python3.10/dist-packages (from yt-dlp) (2.32.3)\n",
            "Requirement already satisfied: urllib3<3,>=1.26.17 in /usr/local/lib/python3.10/dist-packages (from yt-dlp) (2.2.3)\n",
            "Requirement already satisfied: websockets>=13.0 in /usr/local/lib/python3.10/dist-packages (from yt-dlp) (13.1)\n",
            "Requirement already satisfied: charset-normalizer<4,>=2 in /usr/local/lib/python3.10/dist-packages (from requests<3,>=2.32.2->yt-dlp) (3.4.0)\n",
            "Requirement already satisfied: idna<4,>=2.5 in /usr/local/lib/python3.10/dist-packages (from requests<3,>=2.32.2->yt-dlp) (3.10)\n",
            "Enter the YouTube video URL: https://youtu.be/6osJYjs1TRE?si=SNZuqgrAz9E-Q74y\n",
            "[youtube] Extracting URL: https://youtu.be/6osJYjs1TRE?si=SNZuqgrAz9E-Q74y\n",
            "[youtube] 6osJYjs1TRE: Downloading webpage\n",
            "[youtube] 6osJYjs1TRE: Downloading ios player API JSON\n",
            "[youtube] 6osJYjs1TRE: Downloading mweb player API JSON\n",
            "[youtube] 6osJYjs1TRE: Downloading m3u8 information\n",
            "[info] 6osJYjs1TRE: Downloading 1 format(s): 248+251\n",
            "[download] Destination: IN FULL： Elon Musk delivers speech at Donald Trump’s New York rally.f248.webm\n",
            "[download] 100% of   51.96MiB in 00:00:00 at 65.34MiB/s  \n",
            "[download] Destination: IN FULL： Elon Musk delivers speech at Donald Trump’s New York rally.f251.webm\n",
            "[download] 100% of    4.72MiB in 00:00:00 at 47.62MiB/s  \n",
            "[Merger] Merging formats into \"IN FULL： Elon Musk delivers speech at Donald Trump’s New York rally.webm\"\n",
            "Deleting original file IN FULL： Elon Musk delivers speech at Donald Trump’s New York rally.f248.webm (pass -k to keep)\n",
            "Deleting original file IN FULL： Elon Musk delivers speech at Donald Trump’s New York rally.f251.webm (pass -k to keep)\n",
            "Download completed successfully!\n"
          ]
        }
      ]
    },
    {
      "cell_type": "code",
      "source": [
        "# prompt: # YouTube Video Downloader\n",
        "# This is a simple Python application that allows you to download YouTube videos in MP4 format.\n",
        "# ## How to Use\n",
        "# 1. Install the required package:\n",
        "\n",
        "!pip install yt-dlp\n",
        "\n",
        "import yt_dlp\n",
        "\n",
        "def download_youtube_video(url):\n",
        "    ydl_opts = {\n",
        "        'format': 'bestvideo+bestaudio/best',\n",
        "        'outtmpl': '%(title)s.%(ext)s',\n",
        "    }\n",
        "    try:\n",
        "        with yt_dlp.YoutubeDL(ydl_opts) as ydl:\n",
        "            ydl.download([url])\n",
        "        print(\"Download completed successfully!\")\n",
        "    except Exception as e:\n",
        "        print(f\"An error occurred: {e}\")\n",
        "\n",
        "\n",
        "if __name__ == \"__main__\":\n",
        "    video_url = input(\"Enter the YouTube video URL: \")\n",
        "    download_youtube_video(video_url)"
      ],
      "metadata": {
        "colab": {
          "base_uri": "https://localhost:8080/"
        },
        "id": "LrgMOBsIRvVK",
        "outputId": "d6f862ae-e3de-4e87-c72d-07d37b4e1623"
      },
      "execution_count": 23,
      "outputs": [
        {
          "output_type": "stream",
          "name": "stdout",
          "text": [
            "Requirement already satisfied: yt-dlp in /usr/local/lib/python3.10/dist-packages (2024.10.22)\n",
            "Requirement already satisfied: brotli in /usr/local/lib/python3.10/dist-packages (from yt-dlp) (1.1.0)\n",
            "Requirement already satisfied: certifi in /usr/local/lib/python3.10/dist-packages (from yt-dlp) (2024.8.30)\n",
            "Requirement already satisfied: mutagen in /usr/local/lib/python3.10/dist-packages (from yt-dlp) (1.47.0)\n",
            "Requirement already satisfied: pycryptodomex in /usr/local/lib/python3.10/dist-packages (from yt-dlp) (3.21.0)\n",
            "Requirement already satisfied: requests<3,>=2.32.2 in /usr/local/lib/python3.10/dist-packages (from yt-dlp) (2.32.3)\n",
            "Requirement already satisfied: urllib3<3,>=1.26.17 in /usr/local/lib/python3.10/dist-packages (from yt-dlp) (2.2.3)\n",
            "Requirement already satisfied: websockets>=13.0 in /usr/local/lib/python3.10/dist-packages (from yt-dlp) (13.1)\n",
            "Requirement already satisfied: charset-normalizer<4,>=2 in /usr/local/lib/python3.10/dist-packages (from requests<3,>=2.32.2->yt-dlp) (3.4.0)\n",
            "Requirement already satisfied: idna<4,>=2.5 in /usr/local/lib/python3.10/dist-packages (from requests<3,>=2.32.2->yt-dlp) (3.10)\n",
            "Enter the YouTube video URL: https://youtu.be/7-igAakUUTY?si=sbuZH4AIVl_rW7V7\n",
            "[youtube] Extracting URL: https://youtu.be/7-igAakUUTY?si=sbuZH4AIVl_rW7V7\n",
            "[youtube] 7-igAakUUTY: Downloading webpage\n",
            "[youtube] 7-igAakUUTY: Downloading ios player API JSON\n",
            "[youtube] 7-igAakUUTY: Downloading mweb player API JSON\n",
            "[youtube] 7-igAakUUTY: Downloading m3u8 information\n",
            "[info] 7-igAakUUTY: Downloading 1 format(s): 299+251\n",
            "[download] Destination: Deploy ML Models from Colab with FastAPI & ColabCode - Free ML as a Service.f299.mp4\n",
            "[download] 100% of   29.12MiB in 00:00:00 at 32.32MiB/s  \n",
            "[download] Destination: Deploy ML Models from Colab with FastAPI & ColabCode - Free ML as a Service.f251.webm\n",
            "[download] 100% of   13.13MiB in 00:00:01 at 6.97MiB/s   \n",
            "[Merger] Merging formats into \"Deploy ML Models from Colab with FastAPI & ColabCode - Free ML as a Service.mkv\"\n",
            "Deleting original file Deploy ML Models from Colab with FastAPI & ColabCode - Free ML as a Service.f251.webm (pass -k to keep)\n",
            "Deleting original file Deploy ML Models from Colab with FastAPI & ColabCode - Free ML as a Service.f299.mp4 (pass -k to keep)\n",
            "Download completed successfully!\n"
          ]
        }
      ]
    },
    {
      "cell_type": "code",
      "source": [
        "# prompt: 2. Run the application:\n",
        "\n",
        "!pip install yt-dlp\n",
        "\n",
        "import yt_dlp\n",
        "\n",
        "def download_youtube_video(url):\n",
        "    ydl_opts = {\n",
        "        'format': 'bestvideo+bestaudio/best',\n",
        "        'outtmpl': '%(title)s.%(ext)s',\n",
        "    }\n",
        "    try:\n",
        "        with yt_dlp.YoutubeDL(ydl_opts) as ydl:\n",
        "            ydl.download([url])\n",
        "        print(\"Download completed successfully!\")\n",
        "    except Exception as e:\n",
        "        print(f\"An error occurred: {e}\")\n",
        "\n",
        "if __name__ == \"__main__\":\n",
        "    video_url = input(\"Enter the YouTube video URL: \")\n",
        "    download_youtube_video(video_url)"
      ],
      "metadata": {
        "colab": {
          "base_uri": "https://localhost:8080/"
        },
        "id": "FVjfKMPiSAqr",
        "outputId": "61842821-77f0-4e40-814d-8d081f191539"
      },
      "execution_count": 24,
      "outputs": [
        {
          "output_type": "stream",
          "name": "stdout",
          "text": [
            "Requirement already satisfied: yt-dlp in /usr/local/lib/python3.10/dist-packages (2024.10.22)\n",
            "Requirement already satisfied: brotli in /usr/local/lib/python3.10/dist-packages (from yt-dlp) (1.1.0)\n",
            "Requirement already satisfied: certifi in /usr/local/lib/python3.10/dist-packages (from yt-dlp) (2024.8.30)\n",
            "Requirement already satisfied: mutagen in /usr/local/lib/python3.10/dist-packages (from yt-dlp) (1.47.0)\n",
            "Requirement already satisfied: pycryptodomex in /usr/local/lib/python3.10/dist-packages (from yt-dlp) (3.21.0)\n",
            "Requirement already satisfied: requests<3,>=2.32.2 in /usr/local/lib/python3.10/dist-packages (from yt-dlp) (2.32.3)\n",
            "Requirement already satisfied: urllib3<3,>=1.26.17 in /usr/local/lib/python3.10/dist-packages (from yt-dlp) (2.2.3)\n",
            "Requirement already satisfied: websockets>=13.0 in /usr/local/lib/python3.10/dist-packages (from yt-dlp) (13.1)\n",
            "Requirement already satisfied: charset-normalizer<4,>=2 in /usr/local/lib/python3.10/dist-packages (from requests<3,>=2.32.2->yt-dlp) (3.4.0)\n",
            "Requirement already satisfied: idna<4,>=2.5 in /usr/local/lib/python3.10/dist-packages (from requests<3,>=2.32.2->yt-dlp) (3.10)\n",
            "Enter the YouTube video URL: https://youtu.be/YXyP2V0okG0?si=2Jw3ARwA03_vnYJL\n",
            "[youtube] Extracting URL: https://youtu.be/YXyP2V0okG0?si=2Jw3ARwA03_vnYJL\n",
            "[youtube] YXyP2V0okG0: Downloading webpage\n",
            "[youtube] YXyP2V0okG0: Downloading ios player API JSON\n",
            "[youtube] YXyP2V0okG0: Downloading mweb player API JSON\n",
            "[youtube] YXyP2V0okG0: Downloading m3u8 information\n",
            "[info] YXyP2V0okG0: Downloading 1 format(s): 313+251\n",
            "[download] Destination: BREAKING NEWS： JD Vance Addresses Blowback To Tony Hinchcliffe's Remarks At Trump's MSG Rally.f313.webm\n",
            "[download] 100% of  219.13MiB in 00:00:05 at 39.51MiB/s  \n",
            "[download] Destination: BREAKING NEWS： JD Vance Addresses Blowback To Tony Hinchcliffe's Remarks At Trump's MSG Rally.f251.webm\n",
            "[download] 100% of    3.64MiB in 00:00:00 at 33.29MiB/s  \n",
            "[Merger] Merging formats into \"BREAKING NEWS： JD Vance Addresses Blowback To Tony Hinchcliffe's Remarks At Trump's MSG Rally.webm\"\n",
            "Deleting original file BREAKING NEWS： JD Vance Addresses Blowback To Tony Hinchcliffe's Remarks At Trump's MSG Rally.f313.webm (pass -k to keep)\n",
            "Deleting original file BREAKING NEWS： JD Vance Addresses Blowback To Tony Hinchcliffe's Remarks At Trump's MSG Rally.f251.webm (pass -k to keep)\n",
            "Download completed successfully!\n"
          ]
        }
      ]
    },
    {
      "cell_type": "code",
      "source": [
        "# prompt: 3. Enter the YouTube video URL when prompted.\n",
        "\n",
        "!pip install yt-dlp\n",
        "\n",
        "import yt_dlp\n",
        "\n",
        "def download_youtube_video(url):\n",
        "    ydl_opts = {\n",
        "        'format': 'bestvideo+bestaudio/best',\n",
        "        'outtmpl': '%(title)s.%(ext)s',\n",
        "    }\n",
        "    try:\n",
        "        with yt_dlp.YoutubeDL(ydl_opts) as ydl:\n",
        "            ydl.download([url])\n",
        "        print(\"Download completed successfully!\")\n",
        "    except Exception as e:\n",
        "        print(f\"An error occurred: {e}\")\n",
        "\n",
        "\n",
        "if __name__ == \"__main__\":\n",
        "    video_url = input(\"Enter the YouTube video URL: \")\n",
        "    download_youtube_video(video_url)"
      ],
      "metadata": {
        "colab": {
          "base_uri": "https://localhost:8080/"
        },
        "id": "pMKPpEQcSSU3",
        "outputId": "fcc21e02-6019-4916-b321-5511f7778b83"
      },
      "execution_count": 26,
      "outputs": [
        {
          "output_type": "stream",
          "name": "stdout",
          "text": [
            "Requirement already satisfied: yt-dlp in /usr/local/lib/python3.10/dist-packages (2024.10.22)\n",
            "Requirement already satisfied: brotli in /usr/local/lib/python3.10/dist-packages (from yt-dlp) (1.1.0)\n",
            "Requirement already satisfied: certifi in /usr/local/lib/python3.10/dist-packages (from yt-dlp) (2024.8.30)\n",
            "Requirement already satisfied: mutagen in /usr/local/lib/python3.10/dist-packages (from yt-dlp) (1.47.0)\n",
            "Requirement already satisfied: pycryptodomex in /usr/local/lib/python3.10/dist-packages (from yt-dlp) (3.21.0)\n",
            "Requirement already satisfied: requests<3,>=2.32.2 in /usr/local/lib/python3.10/dist-packages (from yt-dlp) (2.32.3)\n",
            "Requirement already satisfied: urllib3<3,>=1.26.17 in /usr/local/lib/python3.10/dist-packages (from yt-dlp) (2.2.3)\n",
            "Requirement already satisfied: websockets>=13.0 in /usr/local/lib/python3.10/dist-packages (from yt-dlp) (13.1)\n",
            "Requirement already satisfied: charset-normalizer<4,>=2 in /usr/local/lib/python3.10/dist-packages (from requests<3,>=2.32.2->yt-dlp) (3.4.0)\n",
            "Requirement already satisfied: idna<4,>=2.5 in /usr/local/lib/python3.10/dist-packages (from requests<3,>=2.32.2->yt-dlp) (3.10)\n",
            "Enter the YouTube video URL: https://youtu.be/UM9o5EiRHOI?si=lcrtRHYl891XVe_0\n",
            "[youtube] Extracting URL: https://youtu.be/UM9o5EiRHOI?si=lcrtRHYl891XVe_0\n",
            "[youtube] UM9o5EiRHOI: Downloading webpage\n",
            "[youtube] UM9o5EiRHOI: Downloading ios player API JSON\n",
            "[youtube] UM9o5EiRHOI: Downloading mweb player API JSON\n",
            "[youtube] UM9o5EiRHOI: Downloading m3u8 information\n",
            "[info] UM9o5EiRHOI: Downloading 1 format(s): 247+251\n",
            "[download] Destination: 'That's Right—Jesus Is King'： JD Vance Accuses Harris Of Anti-Christian Attitudes And Actions.f247.webm\n",
            "[download] 100% of   29.48MiB in 00:00:00 at 56.66MiB/s  \n",
            "[download] Destination: 'That's Right—Jesus Is King'： JD Vance Accuses Harris Of Anti-Christian Attitudes And Actions.f251.webm\n",
            "[download] 100% of    7.48MiB in 00:00:00 at 74.73MiB/s  \n",
            "[Merger] Merging formats into \"'That's Right—Jesus Is King'： JD Vance Accuses Harris Of Anti-Christian Attitudes And Actions.webm\"\n",
            "Deleting original file 'That's Right—Jesus Is King'： JD Vance Accuses Harris Of Anti-Christian Attitudes And Actions.f251.webm (pass -k to keep)\n",
            "Deleting original file 'That's Right—Jesus Is King'： JD Vance Accuses Harris Of Anti-Christian Attitudes And Actions.f247.webm (pass -k to keep)\n",
            "Download completed successfully!\n"
          ]
        }
      ]
    }
  ]
}